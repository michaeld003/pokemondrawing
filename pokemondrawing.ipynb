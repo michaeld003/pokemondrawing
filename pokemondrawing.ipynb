{
 "cells": [
  {
   "cell_type": "code",
   "execution_count": 1,
   "metadata": {},
   "outputs": [],
   "source": [
    "#canvas widget to draw shapes\n",
    "\n",
    "#canvas= widget that is used to draw graphs,plots,images in a window\n",
    "\n",
    "from tkinter import*\n",
    "\n",
    "window=Tk()\n",
    "\n",
    "canvas=Canvas(window,height=500,width=500)\n",
    "#canvas.create_line(0,0,500,500,fill=\"purple\",width=5)#fill used to change the colour,width thickness\n",
    "#canvas.create_line(0,500,500,0,fill=\"yellow\",width=5)\n",
    "#canvas.create_rectangle(50,50,250,300,fill=\"brown\")\n",
    "#points=[250,0,500,500,0,500]\n",
    "#canvas.create_polygon(250,0,500,500,0,500,fill=\"green\",outline=\"black\",width=5)#coordinates for a triangle\n",
    "#canvas.create_arc(0,0,500,500,fill=\"pink\")\n",
    "\n",
    "canvas.create_arc(0,0,500,500,fill=\"red\",extent=180,width=10)\n",
    "canvas.create_arc(0,0,500,500,fill=\"white\",extent=180,start=180,width=10)\n",
    "canvas.create_oval(190,190,310,310,fill=\"white\",width=10)\n",
    "canvas.pack()\n",
    "\n",
    "window.mainloop()"
   ]
  }
 ],
 "metadata": {
  "kernelspec": {
   "display_name": "Python 3",
   "language": "python",
   "name": "python3"
  },
  "language_info": {
   "codemirror_mode": {
    "name": "ipython",
    "version": 3
   },
   "file_extension": ".py",
   "mimetype": "text/x-python",
   "name": "python",
   "nbconvert_exporter": "python",
   "pygments_lexer": "ipython3",
   "version": "3.10.7"
  },
  "orig_nbformat": 4
 },
 "nbformat": 4,
 "nbformat_minor": 2
}
